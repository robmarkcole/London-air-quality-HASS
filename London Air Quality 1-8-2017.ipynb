{
 "cells": [
  {
   "cell_type": "markdown",
   "metadata": {},
   "source": [
    "https://www.londonair.org.uk/LondonAir/API/\n",
    "\n",
    "Docs http://api.erg.kcl.ac.uk/AirQuality/Information/Documentation/pdf\n",
    "\n",
    "Pollutants http://api.erg.kcl.ac.uk/AirQuality/Information/Species/Json"
   ]
  },
  {
   "cell_type": "code",
   "execution_count": 1,
   "metadata": {
    "collapsed": true
   },
   "outputs": [],
   "source": [
    "import requests\n",
    "import json\n",
    "import pprint\n",
    "\n",
    "def print_json(json_data):\n",
    "    pprint.PrettyPrinter().pprint(json_data)"
   ]
  },
  {
   "cell_type": "markdown",
   "metadata": {
    "collapsed": true
   },
   "source": [
    "# HASS class"
   ]
  },
  {
   "cell_type": "code",
   "execution_count": 2,
   "metadata": {
    "collapsed": false
   },
   "outputs": [],
   "source": [
    "LOCATIONS = 'Locations'\n",
    "URL = 'http://api.erg.kcl.ac.uk/AirQuality/Hourly/MonitoringIndex/GroupName=London/Json'\n",
    "#SCAN_INTERVAL = timedelta(minutes=15)\n",
    "\n",
    "# Remove authorities without any Sites ['Hounslow', 'Bromley', 'Waltham Forest', 'Barnet', 'Newham']\n",
    "AUTHORITIES = [\n",
    "    'Barking and Dagenham',\n",
    "    'Bexley',\n",
    "    'Brent',\n",
    "    'Camden',\n",
    "    'City of London',\n",
    "    'Croydon',\n",
    "    'Ealing',\n",
    "    'Enfield',\n",
    "    'Greenwich',\n",
    "    'Hackney',\n",
    "    'Hammersmith and Fulham',\n",
    "    'Haringey',\n",
    "    'Harrow',\n",
    "    'Havering',\n",
    "    'Hillingdon',\n",
    "    'Islington',\n",
    "    'Kensington and Chelsea',\n",
    "    'Kingston',\n",
    "    'Lambeth',\n",
    "    'Lewisham',\n",
    "    'Merton',\n",
    "    'Redbridge',\n",
    "    'Richmond',\n",
    "    'Southwark',\n",
    "    'Sutton',\n",
    "    'Tower Hamlets',\n",
    "    'Wandsworth',\n",
    "    'Westminster']\n",
    "\n",
    "CONFIG = {LOCATIONS: ['Merton','Richmond',]}  # A list of required locations"
   ]
  },
  {
   "cell_type": "code",
   "execution_count": 3,
   "metadata": {
    "collapsed": false
   },
   "outputs": [],
   "source": [
    "def parse_api_response(response):\n",
    "    \"\"\"Take in the API response. API can return dict or list of data so need to check. \"\"\"\n",
    "    data = dict.fromkeys(AUTHORITIES)     # Holds all data\n",
    "    for authority in AUTHORITIES:\n",
    "        for entry in response['HourlyAirQualityIndex']['LocalAuthority']:   # Loop over entries\n",
    "            if entry['@LocalAuthorityName'] == authority:\n",
    "                authority_data = []\n",
    "                \n",
    "                if isinstance(entry['Site'], dict):\n",
    "                    entry_sites_data = [entry['Site']]  \n",
    "                else:\n",
    "                    entry_sites_data = entry['Site']  \n",
    "                \n",
    "                for site in entry_sites_data:\n",
    "                    site_data = {}\n",
    "                    species_data = []\n",
    "                    \n",
    "                    site_data['updated']   = site['@BulletinDate']\n",
    "                    site_data['latitude']  = site['@Latitude']\n",
    "                    site_data['longitude'] = site['@Longitude']\n",
    "                    site_data['site_code'] = site['@SiteCode']\n",
    "                    site_data['site_name'] = site['@SiteName'].split(\"-\")[-1].lstrip()  \n",
    "                    site_data['site_type'] = site['@SiteType']\n",
    "                    \n",
    "                    if isinstance(site['Species'], dict):\n",
    "                        species_data = [site['Species']]  \n",
    "                    else:\n",
    "                        species_data = site['Species'] \n",
    "                    \n",
    "                    parsed_species_data = []\n",
    "                    quality_list = []\n",
    "                    for species in species_data:                     \n",
    "                        if species['@AirQualityBand'] != 'No data': \n",
    "                            species_dict = {}\n",
    "                            species_dict['description'] = species['@SpeciesDescription']\n",
    "                            species_dict['code'] = species['@SpeciesCode']\n",
    "                            species_dict['quality'] = species['@AirQualityBand']\n",
    "                            species_dict['index'] = species['@AirQualityIndex']\n",
    "                            species_dict['summary'] = species_dict['code'] + ' is ' + species_dict['quality']\n",
    "                            parsed_species_data.append(species_dict)\n",
    "                            quality_list.append(species_dict['quality'])\n",
    "                    \n",
    "                    if not parsed_species_data:      # if no valid species data\n",
    "                        parsed_species_data.append('no_species_data')\n",
    "                    site_data['pollutants'] = parsed_species_data\n",
    "                    \n",
    "                    if quality_list:\n",
    "                        site_data['pollutants_status'] = max(set(quality_list), key=quality_list.count)\n",
    "                        site_data['number_of_pollutants'] = len(quality_list)\n",
    "                    else:\n",
    "                        site_data['pollutants_status'] = 'no_species_data' \n",
    "                        site_data['number_of_pollutants'] = 0  \n",
    "                        \n",
    "                    authority_data.append(site_data)\n",
    "                    \n",
    "                data[authority] = authority_data\n",
    "\n",
    "    return data"
   ]
  },
  {
   "cell_type": "code",
   "execution_count": 4,
   "metadata": {
    "collapsed": true
   },
   "outputs": [],
   "source": [
    "class APIData(object):\n",
    "    \"\"\"Get the latest data for all authorities.\"\"\"\n",
    "\n",
    "    def __init__(self):\n",
    "        \"\"\"Initialize the AirData object.\"\"\"\n",
    "        self.data = None\n",
    "       \n",
    "    # Update only once in scan interval.\n",
    "    #@Throttle(SCAN_INTERVAL)\n",
    "    def update(self):\n",
    "        \"\"\"Get the latest data from TFL.\"\"\"\n",
    "        response = requests.get(URL)\n",
    "        if response.status_code != 200:\n",
    "            _LOGGER.warning(\"Invalid response from API\")\n",
    "        else:\n",
    "            self.data = parse_api_response(response.json())"
   ]
  },
  {
   "cell_type": "code",
   "execution_count": 5,
   "metadata": {
    "collapsed": false
   },
   "outputs": [],
   "source": [
    "class AirSensor():   # Entity\n",
    "    \"\"\"Single authority air sensor\"\"\"\n",
    "\n",
    "    ICON = 'mdi:cloud-outline'\n",
    "\n",
    "    def __init__(self, name, APIdata):\n",
    "        \"\"\"Initialize the sensor.\"\"\"\n",
    "        self._name = name\n",
    "        self._APIdata = APIdata\n",
    "        self._site_data = None\n",
    "        self._state = None\n",
    "        self._updated = None\n",
    "        \n",
    "    @property\n",
    "    def name(self):\n",
    "        \"\"\"Return the name of the sensor.\"\"\"\n",
    "        return self._name\n",
    "\n",
    "    @property\n",
    "    def state(self):\n",
    "        \"\"\"Return the state of the sensor.\"\"\"\n",
    "        return self._state\n",
    "    \n",
    "    @property\n",
    "    def site_data(self):\n",
    "        \"\"\"Return the dict of sites data.\"\"\"\n",
    "        return self._site_data\n",
    "\n",
    "    @property\n",
    "    def icon(self):\n",
    "        \"\"\"Icon to use in the frontend, if any.\"\"\"\n",
    "        return self.ICON\n",
    "\n",
    "    @property\n",
    "    def device_state_attributes(self):\n",
    "        \"\"\"Return other details about the sensor state.\"\"\"\n",
    "        attrs = {}\n",
    "        attrs['updated'] = self._updated\n",
    "        attrs['sites'] = len(self._site_data)\n",
    "        attrs['data'] = self._site_data\n",
    "        return attrs\n",
    "\n",
    "    def update(self):\n",
    "        \"\"\"Update the sensor.\"\"\"\n",
    "        self._APIdata.update()\n",
    "        self._site_data = self._APIdata.data[self._name]\n",
    "        self._updated = self._site_data[0]['updated']     \n",
    "        sites_status = []\n",
    "        for site in self._site_data:\n",
    "            if site['pollutants_status'] != 'no_species_data':\n",
    "                sites_status.append(site['pollutants_status'])  \n",
    "        if sites_status:\n",
    "            self._state = max(set(sites_status), key=sites_status.count)\n",
    "        else:\n",
    "            self._state = 'no_species_data'"
   ]
  },
  {
   "cell_type": "code",
   "execution_count": 6,
   "metadata": {
    "collapsed": true
   },
   "outputs": [],
   "source": [
    "def setup_platform(config):\n",
    "    \"\"\"Set up the Tube sensor.\"\"\"\n",
    "    data = APIData()\n",
    "    data.update()\n",
    "    sensors = []\n",
    "    for name in config[LOCATIONS]:\n",
    "        sensors.append(AirSensor(name, data))\n",
    "    return sensors"
   ]
  },
  {
   "cell_type": "code",
   "execution_count": 7,
   "metadata": {
    "collapsed": false
   },
   "outputs": [],
   "source": [
    "#CONFIG = {LOCATIONS: AUTHORITIES}   # check with all areas - works\n",
    "CONFIG = {LOCATIONS: ['Merton', 'Westminster']}   # check with all areas - works\n",
    "my_sensors = setup_platform(CONFIG)"
   ]
  },
  {
   "cell_type": "code",
   "execution_count": 8,
   "metadata": {
    "collapsed": false
   },
   "outputs": [],
   "source": [
    "for sensor in my_sensors:\n",
    "    sensor.update()"
   ]
  },
  {
   "cell_type": "code",
   "execution_count": 9,
   "metadata": {
    "collapsed": false
   },
   "outputs": [
    {
     "data": {
      "text/plain": [
       "'Westminster'"
      ]
     },
     "execution_count": 9,
     "metadata": {},
     "output_type": "execute_result"
    }
   ],
   "source": [
    "my_sensors[1].name"
   ]
  },
  {
   "cell_type": "code",
   "execution_count": 10,
   "metadata": {
    "collapsed": false
   },
   "outputs": [
    {
     "data": {
      "text/plain": [
       "'Low'"
      ]
     },
     "execution_count": 10,
     "metadata": {},
     "output_type": "execute_result"
    }
   ],
   "source": [
    "my_sensors[1].state"
   ]
  },
  {
   "cell_type": "code",
   "execution_count": 11,
   "metadata": {
    "collapsed": false
   },
   "outputs": [
    {
     "data": {
      "text/plain": [
       "'2017-08-02 18:00:00'"
      ]
     },
     "execution_count": 11,
     "metadata": {},
     "output_type": "execute_result"
    }
   ],
   "source": [
    "my_sensors[1]._updated"
   ]
  },
  {
   "cell_type": "code",
   "execution_count": 12,
   "metadata": {
    "collapsed": false
   },
   "outputs": [
    {
     "data": {
      "text/plain": [
       "[{'latitude': '51.52254',\n",
       "  'longitude': '-0.15459',\n",
       "  'number_of_pollutants': 4,\n",
       "  'pollutants': [{'code': 'NO2',\n",
       "    'description': 'Nitrogen Dioxide',\n",
       "    'index': '1',\n",
       "    'quality': 'Low',\n",
       "    'summary': 'NO2 is Low'},\n",
       "   {'code': 'O3',\n",
       "    'description': 'Ozone',\n",
       "    'index': '1',\n",
       "    'quality': 'Low',\n",
       "    'summary': 'O3 is Low'},\n",
       "   {'code': 'PM10',\n",
       "    'description': 'PM10 Particulate',\n",
       "    'index': '2',\n",
       "    'quality': 'Low',\n",
       "    'summary': 'PM10 is Low'},\n",
       "   {'code': 'SO2',\n",
       "    'description': 'Sulphur Dioxide',\n",
       "    'index': '1',\n",
       "    'quality': 'Low',\n",
       "    'summary': 'SO2 is Low'}],\n",
       "  'pollutants_status': 'Low',\n",
       "  'site_code': 'MY1',\n",
       "  'site_name': 'Marylebone Road',\n",
       "  'site_type': 'Kerbside',\n",
       "  'updated': '2017-08-02 18:00:00'},\n",
       " {'latitude': '51.52254',\n",
       "  'longitude': '-0.15459',\n",
       "  'number_of_pollutants': 1,\n",
       "  'pollutants': [{'code': 'PM10',\n",
       "    'description': 'PM10 Particulate',\n",
       "    'index': '2',\n",
       "    'quality': 'Low',\n",
       "    'summary': 'PM10 is Low'}],\n",
       "  'pollutants_status': 'Low',\n",
       "  'site_code': 'MY7',\n",
       "  'site_name': 'Marylebone Road FDMS',\n",
       "  'site_type': 'Kerbside',\n",
       "  'updated': '2017-08-02 18:00:00'},\n",
       " {'latitude': '51.511998',\n",
       "  'longitude': '-0.116715',\n",
       "  'number_of_pollutants': 0,\n",
       "  'pollutants': ['no_species_data'],\n",
       "  'pollutants_status': 'no_species_data',\n",
       "  'site_code': 'NB1',\n",
       "  'site_name': 'Strand (Northbank BID)',\n",
       "  'site_type': 'Roadside',\n",
       "  'updated': '2017-08-02 18:00:00'},\n",
       " {'latitude': '51.494681',\n",
       "  'longitude': '-0.131938',\n",
       "  'number_of_pollutants': 2,\n",
       "  'pollutants': [{'code': 'NO2',\n",
       "    'description': 'Nitrogen Dioxide',\n",
       "    'index': '1',\n",
       "    'quality': 'Low',\n",
       "    'summary': 'NO2 is Low'},\n",
       "   {'code': 'PM10',\n",
       "    'description': 'PM10 Particulate',\n",
       "    'index': '1',\n",
       "    'quality': 'Low',\n",
       "    'summary': 'PM10 is Low'}],\n",
       "  'pollutants_status': 'Low',\n",
       "  'site_code': 'WM0',\n",
       "  'site_name': 'Horseferry Road',\n",
       "  'site_type': 'Urban Background',\n",
       "  'updated': '2017-08-02 18:00:00'},\n",
       " {'latitude': '51.5139287404213',\n",
       "  'longitude': '-0.152792701881935',\n",
       "  'number_of_pollutants': 1,\n",
       "  'pollutants': [{'code': 'NO2',\n",
       "    'description': 'Nitrogen Dioxide',\n",
       "    'index': '2',\n",
       "    'quality': 'Low',\n",
       "    'summary': 'NO2 is Low'}],\n",
       "  'pollutants_status': 'Low',\n",
       "  'site_code': 'WM6',\n",
       "  'site_name': 'Oxford Street',\n",
       "  'site_type': 'Kerbside',\n",
       "  'updated': '2017-08-02 18:00:00'},\n",
       " {'latitude': '51.4977331829735',\n",
       "  'longitude': '-0.14424140916201',\n",
       "  'number_of_pollutants': 1,\n",
       "  'pollutants': [{'code': 'NO2',\n",
       "    'description': 'Nitrogen Dioxide',\n",
       "    'index': '2',\n",
       "    'quality': 'Low',\n",
       "    'summary': 'NO2 is Low'}],\n",
       "  'pollutants_status': 'Low',\n",
       "  'site_code': 'WM9',\n",
       "  'site_name': 'Victoria (Victoria BID)',\n",
       "  'site_type': 'Roadside',\n",
       "  'updated': '2017-08-02 18:00:00'}]"
      ]
     },
     "execution_count": 12,
     "metadata": {},
     "output_type": "execute_result"
    }
   ],
   "source": [
    "my_sensors[1].device_state_attributes['data']"
   ]
  },
  {
   "cell_type": "code",
   "execution_count": 91,
   "metadata": {
    "collapsed": false
   },
   "outputs": [
    {
     "data": {
      "text/plain": [
       "{'latitude': '51.4161384794862',\n",
       " 'longitude': '-0.192230805042824',\n",
       " 'number_of_pollutants': 1,\n",
       " 'pollutants': [{'code': 'PM10',\n",
       "   'description': 'PM10 Particulate',\n",
       "   'index': '2',\n",
       "   'quality': 'Low',\n",
       "   'summary': 'PM10 is Low'}],\n",
       " 'pollutants_status': 'Low',\n",
       " 'site_code': 'ME2',\n",
       " 'site_name': 'Merton Road',\n",
       " 'site_type': 'Roadside',\n",
       " 'updated': '2017-08-02 18:00:00'}"
      ]
     },
     "execution_count": 91,
     "metadata": {},
     "output_type": "execute_result"
    }
   ],
   "source": [
    "my_sensors[0].site_data[0]#['Pollutants'][0]['Summary']"
   ]
  },
  {
   "cell_type": "code",
   "execution_count": null,
   "metadata": {
    "collapsed": true
   },
   "outputs": [],
   "source": []
  }
 ],
 "metadata": {
  "anaconda-cloud": {},
  "kernelspec": {
   "display_name": "Python [conda root]",
   "language": "python",
   "name": "conda-root-py"
  },
  "language_info": {
   "codemirror_mode": {
    "name": "ipython",
    "version": 3
   },
   "file_extension": ".py",
   "mimetype": "text/x-python",
   "name": "python",
   "nbconvert_exporter": "python",
   "pygments_lexer": "ipython3",
   "version": "3.5.3"
  }
 },
 "nbformat": 4,
 "nbformat_minor": 1
}
