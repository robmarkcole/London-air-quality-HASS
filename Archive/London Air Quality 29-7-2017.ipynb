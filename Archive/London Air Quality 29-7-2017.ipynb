{
 "cells": [
  {
   "cell_type": "markdown",
   "metadata": {},
   "source": [
    "https://www.londonair.org.uk/LondonAir/API/\n",
    "\n",
    "Docs http://api.erg.kcl.ac.uk/AirQuality/Information/Documentation/pdf"
   ]
  },
  {
   "cell_type": "code",
   "execution_count": 1,
   "metadata": {
    "collapsed": true
   },
   "outputs": [],
   "source": [
    "import requests\n",
    "import json\n",
    "import pprint\n",
    "\n",
    "def print_json(json_data):\n",
    "    pprint.PrettyPrinter().pprint(json_data)"
   ]
  },
  {
   "cell_type": "markdown",
   "metadata": {},
   "source": [
    "# Single site - Hourly"
   ]
  },
  {
   "cell_type": "code",
   "execution_count": 2,
   "metadata": {
    "collapsed": false
   },
   "outputs": [
    {
     "data": {
      "text/plain": [
       "'http://api.erg.kcl.ac.uk/AirQuality/Hourly/MonitoringIndex/SiteCode=KT4/Json'"
      ]
     },
     "execution_count": 2,
     "metadata": {},
     "output_type": "execute_result"
    }
   ],
   "source": [
    "SiteCode = 'KT4'\n",
    "url = 'http://api.erg.kcl.ac.uk/AirQuality/Hourly/MonitoringIndex/SiteCode={}/Json'.format(SiteCode)\n",
    "url"
   ]
  },
  {
   "cell_type": "code",
   "execution_count": 3,
   "metadata": {
    "collapsed": true
   },
   "outputs": [],
   "source": [
    "response = requests.get(url).json()  # get the response object"
   ]
  },
  {
   "cell_type": "code",
   "execution_count": 4,
   "metadata": {
    "collapsed": false
   },
   "outputs": [
    {
     "name": "stdout",
     "output_type": "stream",
     "text": [
      "{'HourlyAirQualityIndex': {'@TimeToLive': '12',\n",
      "                           'LocalAuthority': {'@LaCentreLatitude': '51.412317',\n",
      "                                              '@LaCentreLatitudeWGS84': '6694554.466476',\n",
      "                                              '@LaCentreLongitude': '-0.300443',\n",
      "                                              '@LaCentreLongitudeWGS84': '-33445.161772',\n",
      "                                              '@LocalAuthorityCode': '21',\n",
      "                                              '@LocalAuthorityName': 'Kingston',\n",
      "                                              'Site': {'@BulletinDate': '2017-07-29 '\n",
      "                                                                        '08:00:00',\n",
      "                                                       '@Latitude': '51.379312',\n",
      "                                                       '@LatitudeWGS84': '6688665.88821522',\n",
      "                                                       '@Longitude': '-0.281259',\n",
      "                                                       '@LongitudeWGS84': '-31309.6086610253',\n",
      "                                                       '@SiteCode': 'KT4',\n",
      "                                                       '@SiteName': 'Kingston '\n",
      "                                                                    'Upon '\n",
      "                                                                    'Thames - '\n",
      "                                                                    'Tolworth '\n",
      "                                                                    'Broadway',\n",
      "                                                       '@SiteType': 'Roadside',\n",
      "                                                       'species': [{'@AirQualityBand': 'Low',\n",
      "                                                                    '@AirQualityIndex': '1',\n",
      "                                                                    '@IndexSource': 'Measurement',\n",
      "                                                                    '@SpeciesCode': 'NO2',\n",
      "                                                                    '@SpeciesName': 'Nitrogen '\n",
      "                                                                                    'Dioxide'},\n",
      "                                                                   {'@AirQualityBand': 'Low',\n",
      "                                                                    '@AirQualityIndex': '1',\n",
      "                                                                    '@IndexSource': 'Trigger',\n",
      "                                                                    '@SpeciesCode': 'PM10',\n",
      "                                                                    '@SpeciesName': 'PM10 '\n",
      "                                                                                    'Particulate'}]}}}}\n"
     ]
    }
   ],
   "source": [
    "print_json(response)"
   ]
  },
  {
   "cell_type": "code",
   "execution_count": 5,
   "metadata": {
    "collapsed": false
   },
   "outputs": [],
   "source": [
    "base = response['HourlyAirQualityIndex']['LocalAuthority']['Site']"
   ]
  },
  {
   "cell_type": "code",
   "execution_count": 6,
   "metadata": {
    "collapsed": false
   },
   "outputs": [
    {
     "data": {
      "text/plain": [
       "'Kingston Upon Thames - Tolworth Broadway'"
      ]
     },
     "execution_count": 6,
     "metadata": {},
     "output_type": "execute_result"
    }
   ],
   "source": [
    "base['@SiteName']"
   ]
  },
  {
   "cell_type": "code",
   "execution_count": 7,
   "metadata": {
    "collapsed": false
   },
   "outputs": [
    {
     "name": "stdout",
     "output_type": "stream",
     "text": [
      "*****\n",
      "Nitrogen Dioxide\n",
      "1\n",
      "Low\n",
      "*****\n",
      "PM10 Particulate\n",
      "1\n",
      "Low\n"
     ]
    }
   ],
   "source": [
    "for species in base['species']:\n",
    "    print('*****')\n",
    "    print(species['@SpeciesName'])\n",
    "    print(species['@AirQualityIndex'])\n",
    "    print(species['@AirQualityBand'])"
   ]
  },
  {
   "cell_type": "markdown",
   "metadata": {},
   "source": [
    "# All sites - Hourly"
   ]
  },
  {
   "cell_type": "code",
   "execution_count": 8,
   "metadata": {
    "collapsed": true
   },
   "outputs": [],
   "source": [
    "url = 'http://api.erg.kcl.ac.uk/AirQuality/Hourly/MonitoringIndex/GroupName=London/Json'\n",
    "response = requests.get(url).json()  # get the response object"
   ]
  },
  {
   "cell_type": "code",
   "execution_count": 9,
   "metadata": {
    "collapsed": false
   },
   "outputs": [
    {
     "name": "stdout",
     "output_type": "stream",
     "text": [
      "33\n",
      "Barking and Dagenham\n",
      "Barnet\n",
      "Bexley\n",
      "Brent\n",
      "Bromley\n",
      "Camden\n",
      "City of London\n",
      "Croydon\n",
      "Ealing\n",
      "Enfield\n",
      "Greenwich\n",
      "Hackney\n",
      "Hammersmith and Fulham\n",
      "Haringey\n",
      "Harrow\n",
      "Havering\n",
      "Hillingdon\n",
      "Hounslow\n",
      "Islington\n",
      "Kensington and Chelsea\n",
      "Kingston\n",
      "Lambeth\n",
      "Lewisham\n",
      "Merton\n",
      "Newham\n",
      "Redbridge\n",
      "Richmond\n",
      "Southwark\n",
      "Sutton\n",
      "Tower Hamlets\n",
      "Waltham Forest\n",
      "Wandsworth\n",
      "Westminster\n"
     ]
    }
   ],
   "source": [
    "base = response['HourlyAirQualityIndex']['LocalAuthority']\n",
    "print(len(base))   # 33 sites\n",
    "\n",
    "for authority in base:\n",
    "    print(authority['@LocalAuthorityName'])"
   ]
  },
  {
   "cell_type": "code",
   "execution_count": 10,
   "metadata": {
    "collapsed": false
   },
   "outputs": [
    {
     "data": {
      "text/plain": [
       "[{'@BulletinDate': '2017-07-29 08:00:00',\n",
       "  '@Latitude': '51.4161384794862',\n",
       "  '@LatitudeWGS84': '6695236.54926',\n",
       "  '@Longitude': '-0.192230805042824',\n",
       "  '@LongitudeWGS84': '-21399.0353321',\n",
       "  '@SiteCode': 'ME2',\n",
       "  '@SiteName': 'Merton - Merton Road',\n",
       "  '@SiteType': 'Roadside',\n",
       "  'Species': {'@AirQualityBand': 'Low',\n",
       "   '@AirQualityIndex': '1',\n",
       "   '@IndexSource': 'Trigger',\n",
       "   '@SpeciesCode': 'PM10',\n",
       "   '@SpeciesDescription': 'PM10 Particulate'}},\n",
       " {'@BulletinDate': '2017-07-29 08:00:00',\n",
       "  '@Latitude': '51.40162',\n",
       "  '@LatitudeWGS84': '6692543.79001',\n",
       "  '@Longitude': '-0.19589212',\n",
       "  '@LongitudeWGS84': '-21810.7165116',\n",
       "  '@SiteCode': 'ME9',\n",
       "  '@SiteName': 'Merton - Morden Civic Centre 2',\n",
       "  '@SiteType': 'Roadside',\n",
       "  'Species': {'@AirQualityBand': 'No data',\n",
       "   '@AirQualityIndex': '0',\n",
       "   '@IndexSource': 'Measurement',\n",
       "   '@SpeciesCode': 'NO2',\n",
       "   '@SpeciesDescription': 'Nitrogen Dioxide'}}]"
      ]
     },
     "execution_count": 10,
     "metadata": {},
     "output_type": "execute_result"
    }
   ],
   "source": [
    "data = {}\n",
    "\n",
    "for authority in base:\n",
    "    if authority['@LocalAuthorityName'] == 'Merton':\n",
    "        data = authority['Site']\n",
    "        \n",
    "data"
   ]
  },
  {
   "cell_type": "code",
   "execution_count": 11,
   "metadata": {
    "collapsed": false
   },
   "outputs": [
    {
     "name": "stdout",
     "output_type": "stream",
     "text": [
      "Merton - Merton Road\n",
      "Low\n",
      "1\n",
      "PM10 Particulate\n",
      "Merton - Morden Civic Centre 2\n"
     ]
    }
   ],
   "source": [
    "for site in data:\n",
    "    print(site['@SiteName'])\n",
    "    if site['Species']['@AirQualityBand'] != 'No data':      # don't print if no data\n",
    "        print(site['Species']['@AirQualityBand'])\n",
    "        print(site['Species']['@AirQualityIndex'])\n",
    "        print(site['Species']['@SpeciesDescription'])"
   ]
  },
  {
   "cell_type": "code",
   "execution_count": 12,
   "metadata": {
    "collapsed": false
   },
   "outputs": [
    {
     "name": "stdout",
     "output_type": "stream",
     "text": [
      "8\n",
      "Bexley - Belvedere West\n",
      "Bexley - Belvedere West FDMS\n",
      "Bexley - Belvedere FDMS\n",
      "Bexley - Slade Green\n",
      "Bexley - Belvedere\n",
      "Bexley - Slade Green FDMS\n",
      "Greenwich and Bexley - Falconwood FDMS\n",
      "Greenwich and Bexley - Falconwood\n"
     ]
    }
   ],
   "source": [
    "print(len(base[2]['Site']))   # there are 8 sites\n",
    "for site in base[2]['Site']:\n",
    "    print(site['@SiteName'])"
   ]
  },
  {
   "cell_type": "code",
   "execution_count": 13,
   "metadata": {
    "collapsed": false
   },
   "outputs": [
    {
     "data": {
      "text/plain": [
       "{'@BulletinDate': '2017-07-29 08:00:00',\n",
       " '@Latitude': '51.4946486813055',\n",
       " '@LatitudeWGS84': '6709278.28804',\n",
       " '@Longitude': '0.137279111232178',\n",
       " '@LongitudeWGS84': '14951.9364255',\n",
       " '@SiteCode': 'BQ7',\n",
       " '@SiteName': 'Bexley - Belvedere West',\n",
       " '@SiteType': 'Urban Background',\n",
       " 'Species': [{'@AirQualityBand': 'Low',\n",
       "   '@AirQualityIndex': '1',\n",
       "   '@IndexSource': 'Measurement',\n",
       "   '@SpeciesCode': 'NO2',\n",
       "   '@SpeciesDescription': 'Nitrogen Dioxide'},\n",
       "  {'@AirQualityBand': 'Low',\n",
       "   '@AirQualityIndex': '2',\n",
       "   '@IndexSource': 'Measurement',\n",
       "   '@SpeciesCode': 'O3',\n",
       "   '@SpeciesDescription': 'Ozone'},\n",
       "  {'@AirQualityBand': 'Low',\n",
       "   '@AirQualityIndex': '1',\n",
       "   '@IndexSource': 'Trigger',\n",
       "   '@SpeciesCode': 'PM10',\n",
       "   '@SpeciesDescription': 'PM10 Particulate'}]}"
      ]
     },
     "execution_count": 13,
     "metadata": {},
     "output_type": "execute_result"
    }
   ],
   "source": [
    "base[2]['Site'][0]"
   ]
  },
  {
   "cell_type": "code",
   "execution_count": 14,
   "metadata": {
    "collapsed": false
   },
   "outputs": [
    {
     "name": "stdout",
     "output_type": "stream",
     "text": [
      "******\n",
      "Nitrogen Dioxide\n",
      "1\n",
      "Low\n",
      "******\n",
      "Ozone\n",
      "2\n",
      "Low\n",
      "******\n",
      "PM10 Particulate\n",
      "1\n",
      "Low\n"
     ]
    }
   ],
   "source": [
    "for species in base[2]['Site'][0]['Species']:\n",
    "    print('******')\n",
    "    print(species['@SpeciesDescription'])\n",
    "    print(species['@AirQualityIndex'])\n",
    "    print(species['@AirQualityBand'])   "
   ]
  },
  {
   "cell_type": "markdown",
   "metadata": {},
   "source": [
    "## Single lat long"
   ]
  },
  {
   "cell_type": "code",
   "execution_count": 15,
   "metadata": {
    "collapsed": false
   },
   "outputs": [
    {
     "data": {
      "text/plain": [
       "51.5007"
      ]
     },
     "execution_count": 15,
     "metadata": {},
     "output_type": "execute_result"
    }
   ],
   "source": [
    "big_ben = {'Lat': 51.5007, \n",
    "           'Long': 0.1246}\n",
    "big_ben['Lat']"
   ]
  },
  {
   "cell_type": "code",
   "execution_count": 16,
   "metadata": {
    "collapsed": false
   },
   "outputs": [
    {
     "data": {
      "text/plain": [
       "'http://api.erg.kcl.ac.uk/AirQuality/Data/Nowcast/lat=51.5007/lon=0.1246/Json'"
      ]
     },
     "execution_count": 16,
     "metadata": {},
     "output_type": "execute_result"
    }
   ],
   "source": [
    "big_ben = {'Lat': 51.5007, \n",
    "           'Long': 0.1246}\n",
    "\n",
    "url = 'http://api.erg.kcl.ac.uk/AirQuality/Data/Nowcast/lat={}/lon={}/Json'.format(big_ben['Lat'], big_ben['Long'])\n",
    "url"
   ]
  },
  {
   "cell_type": "code",
   "execution_count": 17,
   "metadata": {
    "collapsed": false
   },
   "outputs": [],
   "source": [
    "response = requests.get(url).json() "
   ]
  },
  {
   "cell_type": "code",
   "execution_count": 18,
   "metadata": {
    "collapsed": false
   },
   "outputs": [
    {
     "name": "stdout",
     "output_type": "stream",
     "text": [
      "{'PointResult': {'@Easting': '547560',\n",
      "                 '@Max_Index': '2',\n",
      "                 '@NO2': '5.424917',\n",
      "                 '@NO2_Annual': '29.81802',\n",
      "                 '@NO2_Index': '1',\n",
      "                 '@Northing': '180120',\n",
      "                 '@O3': '42.71019',\n",
      "                 '@O3_Annual': '45.6608',\n",
      "                 '@O3_Index': '2',\n",
      "                 '@PM10': '3.688392',\n",
      "                 '@PM10_Annual': '23.90524',\n",
      "                 '@PM10_Index': '1',\n",
      "                 '@PM25': '0.285327',\n",
      "                 '@PM25_Annual': '15.32926',\n",
      "                 '@PM25_Index': '1',\n",
      "                 '@lat': '51.5007',\n",
      "                 '@lon': '0.1246'}}\n"
     ]
    }
   ],
   "source": [
    "print_json(response)"
   ]
  },
  {
   "cell_type": "markdown",
   "metadata": {
    "collapsed": true
   },
   "source": [
    "# HASS class"
   ]
  },
  {
   "cell_type": "code",
   "execution_count": 59,
   "metadata": {
    "collapsed": false
   },
   "outputs": [],
   "source": [
    "LOCATIONS = 'Locations'\n",
    "URL = 'http://api.erg.kcl.ac.uk/AirQuality/Hourly/MonitoringIndex/GroupName=London/Json'\n",
    "#SCAN_INTERVAL = timedelta(seconds=30)\n",
    "\n",
    "# Comment out authorities without any Sites\n",
    "AUTHORITIES = [\n",
    "    'Barking and Dagenham',\n",
    " #   'Barnet',\n",
    "    'Bexley',\n",
    "    'Brent',\n",
    "#    'Bromley',\n",
    "    'Camden',\n",
    "    'City of London',\n",
    "    'Croydon',\n",
    "    'Ealing',\n",
    "    'Enfield',\n",
    "    'Greenwich',\n",
    "    'Hackney',\n",
    "    'Hammersmith and Fulham',\n",
    "    'Haringey',\n",
    "    'Harrow',\n",
    "    'Havering',\n",
    "    'Hillingdon',\n",
    "#    'Hounslow',\n",
    "    'Islington',\n",
    "    'Kensington and Chelsea',\n",
    "    'Kingston',\n",
    "    'Lambeth',\n",
    "    'Lewisham',\n",
    "    'Merton',\n",
    " #   'Newham',\n",
    "    'Redbridge',\n",
    "    'Richmond',\n",
    "    'Southwark',\n",
    "    'Sutton',\n",
    "    'Tower Hamlets',\n",
    " #   'Waltham Forest',\n",
    "    'Wandsworth',\n",
    "    'Westminster']\n",
    "\n",
    "CONFIG = {LOCATIONS: ['Merton','Richmond',]}  # A list of required locations"
   ]
  },
  {
   "cell_type": "code",
   "execution_count": 60,
   "metadata": {
    "collapsed": true
   },
   "outputs": [],
   "source": [
    "def parse_api_response(response):\n",
    "    \"\"\"Take in the API response.\"\"\"\n",
    "    data_dict = dict.fromkeys(AUTHORITIES)\n",
    "    for authority in data_dict:\n",
    "        for entry in response['HourlyAirQualityIndex']['LocalAuthority']:\n",
    "            if entry['@LocalAuthorityName'] == authority:\n",
    "                data_dict[authority] = entry['Site']       # not every entry has Site\n",
    "\n",
    "    return data_dict"
   ]
  },
  {
   "cell_type": "code",
   "execution_count": 62,
   "metadata": {
    "collapsed": false
   },
   "outputs": [
    {
     "data": {
      "text/plain": [
       "[{'@BulletinDate': '2017-07-29 09:00:00',\n",
       "  '@Latitude': '51.4161384794862',\n",
       "  '@LatitudeWGS84': '6695236.54926',\n",
       "  '@Longitude': '-0.192230805042824',\n",
       "  '@LongitudeWGS84': '-21399.0353321',\n",
       "  '@SiteCode': 'ME2',\n",
       "  '@SiteName': 'Merton - Merton Road',\n",
       "  '@SiteType': 'Roadside',\n",
       "  'Species': {'@AirQualityBand': 'Low',\n",
       "   '@AirQualityIndex': '1',\n",
       "   '@IndexSource': 'Trigger',\n",
       "   '@SpeciesCode': 'PM10',\n",
       "   '@SpeciesDescription': 'PM10 Particulate'}},\n",
       " {'@BulletinDate': '2017-07-29 09:00:00',\n",
       "  '@Latitude': '51.40162',\n",
       "  '@LatitudeWGS84': '6692543.79001',\n",
       "  '@Longitude': '-0.19589212',\n",
       "  '@LongitudeWGS84': '-21810.7165116',\n",
       "  '@SiteCode': 'ME9',\n",
       "  '@SiteName': 'Merton - Morden Civic Centre 2',\n",
       "  '@SiteType': 'Roadside',\n",
       "  'Species': {'@AirQualityBand': 'Low',\n",
       "   '@AirQualityIndex': '1',\n",
       "   '@IndexSource': 'Measurement',\n",
       "   '@SpeciesCode': 'NO2',\n",
       "   '@SpeciesDescription': 'Nitrogen Dioxide'}}]"
      ]
     },
     "execution_count": 62,
     "metadata": {},
     "output_type": "execute_result"
    }
   ],
   "source": [
    "response = requests.get(URL).json()\n",
    "my_data = parse_api_response(response)\n",
    "my_data['Merton']"
   ]
  },
  {
   "cell_type": "code",
   "execution_count": null,
   "metadata": {
    "collapsed": true
   },
   "outputs": [],
   "source": [
    "class AirData(object):\n",
    "    \"\"\"Get the latest data.\"\"\"\n",
    "\n",
    "    def __init__(self):\n",
    "        \"\"\"Initialize the AirData object.\"\"\"\n",
    "        self.data = None\n",
    "\n",
    "    def update(self):\n",
    "        \"\"\"Get the latest data from TFL.\"\"\"\n",
    "        response = requests.get(URL)\n",
    "        if response.status_code != 200:\n",
    "            _LOGGER.warning(\"Invalid response from API\")\n",
    "        else:\n",
    "            self.data = parse_api_response(response.json())"
   ]
  },
  {
   "cell_type": "code",
   "execution_count": 19,
   "metadata": {
    "collapsed": true
   },
   "outputs": [],
   "source": [
    "# Class will return dict of attributes of form\n",
    "\n",
    "attributes = {'LocalAuthorityName': 'Kingston', \n",
    "              'SiteCode': 'KT4',\n",
    "              'SiteName': 'Kingston upon thames',\n",
    "              '@BulletinDate': '2017-07-04 03:00:00',              # Will be sensor state\n",
    "              'species': [\n",
    "        {'@AirQualityBand': 'Low',\n",
    "         '@AirQualityIndex': '1',\n",
    "         '@IndexSource': 'Trigger',\n",
    "         '@SpeciesCode': 'PM10',\n",
    "         '@SpeciesName': 'PM10 Particulate'}\n",
    "    ]}"
   ]
  },
  {
   "cell_type": "code",
   "execution_count": null,
   "metadata": {
    "collapsed": true
   },
   "outputs": [],
   "source": []
  }
 ],
 "metadata": {
  "anaconda-cloud": {},
  "kernelspec": {
   "display_name": "Python [conda root]",
   "language": "python",
   "name": "conda-root-py"
  },
  "language_info": {
   "codemirror_mode": {
    "name": "ipython",
    "version": 3
   },
   "file_extension": ".py",
   "mimetype": "text/x-python",
   "name": "python",
   "nbconvert_exporter": "python",
   "pygments_lexer": "ipython3",
   "version": "3.5.3"
  }
 },
 "nbformat": 4,
 "nbformat_minor": 1
}
